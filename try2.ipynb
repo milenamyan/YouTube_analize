{
 "cells": [
  {
   "cell_type": "code",
   "execution_count": 14,
   "id": "978d5ccd",
   "metadata": {},
   "outputs": [
    {
     "ename": "ModuleNotFoundError",
     "evalue": "No module named 'pytubefix'",
     "output_type": "error",
     "traceback": [
      "\u001b[31m---------------------------------------------------------------------------\u001b[39m",
      "\u001b[31mModuleNotFoundError\u001b[39m                       Traceback (most recent call last)",
      "\u001b[36mCell\u001b[39m\u001b[36m \u001b[39m\u001b[32mIn[14]\u001b[39m\u001b[32m, line 1\u001b[39m\n\u001b[32m----> \u001b[39m\u001b[32m1\u001b[39m \u001b[38;5;28;01mfrom\u001b[39;00m\u001b[38;5;250m \u001b[39m\u001b[34;01mpytubefix\u001b[39;00m\u001b[38;5;250m \u001b[39m\u001b[38;5;28;01mimport\u001b[39;00m YouTube\n",
      "\u001b[31mModuleNotFoundError\u001b[39m: No module named 'pytubefix'"
     ]
    }
   ],
   "source": [
    "from pytubefix import YouTube\n"
   ]
  },
  {
   "cell_type": "code",
   "execution_count": null,
   "id": "ad8db55a",
   "metadata": {},
   "outputs": [],
   "source": [
    "URL = \"https://www.youtube.com/watch?v=tvZzjcaGs1U&list=PLfLD2TpGxVUwNhdJWh3lpAJLFBjV6ilqv&index=17\""
   ]
  },
  {
   "cell_type": "code",
   "execution_count": null,
   "id": "1f3cfa66",
   "metadata": {},
   "outputs": [
    {
     "ename": "NameError",
     "evalue": "name 'YouTube' is not defined",
     "output_type": "error",
     "traceback": [
      "\u001b[31m---------------------------------------------------------------------------\u001b[39m",
      "\u001b[31mNameError\u001b[39m                                 Traceback (most recent call last)",
      "\u001b[36mCell\u001b[39m\u001b[36m \u001b[39m\u001b[32mIn[11]\u001b[39m\u001b[32m, line 1\u001b[39m\n\u001b[32m----> \u001b[39m\u001b[32m1\u001b[39m yt = \u001b[43mYouTube\u001b[49m(URL)\n",
      "\u001b[31mNameError\u001b[39m: name 'YouTube' is not defined"
     ]
    }
   ],
   "source": [
    "yt = YouTube(URL)"
   ]
  },
  {
   "cell_type": "code",
   "execution_count": 15,
   "id": "fc783415",
   "metadata": {},
   "outputs": [
    {
     "ename": "NameError",
     "evalue": "name 'yt' is not defined",
     "output_type": "error",
     "traceback": [
      "\u001b[31m---------------------------------------------------------------------------\u001b[39m",
      "\u001b[31mNameError\u001b[39m                                 Traceback (most recent call last)",
      "\u001b[36mCell\u001b[39m\u001b[36m \u001b[39m\u001b[32mIn[15]\u001b[39m\u001b[32m, line 1\u001b[39m\n\u001b[32m----> \u001b[39m\u001b[32m1\u001b[39m \u001b[43myt\u001b[49m.title\n",
      "\u001b[31mNameError\u001b[39m: name 'yt' is not defined"
     ]
    }
   ],
   "source": [
    "yt.title"
   ]
  }
 ],
 "metadata": {
  "kernelspec": {
   "display_name": "youtube",
   "language": "python",
   "name": "python3"
  },
  "language_info": {
   "codemirror_mode": {
    "name": "ipython",
    "version": 3
   },
   "file_extension": ".py",
   "mimetype": "text/x-python",
   "name": "python",
   "nbconvert_exporter": "python",
   "pygments_lexer": "ipython3",
   "version": "3.13.5"
  }
 },
 "nbformat": 4,
 "nbformat_minor": 5
}
